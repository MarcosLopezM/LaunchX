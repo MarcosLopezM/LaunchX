{
 "cells": [
  {
   "cell_type": "markdown",
   "metadata": {},
   "source": [
    "# Kata del módulo 2"
   ]
  },
  {
   "cell_type": "markdown",
   "metadata": {},
   "source": [
    "## Ejercicio - Crear un paquete\n",
    "\n",
    "En este ejercicio, aprenderás a utilizar entornos virtuales como una forma para no afectar a los paquetes instalados globalmente u otros programas que se ejecutan en tu máquina.\n",
    "\n",
    "*Para este ejercicio es necesario que lo ejecutes desde la terminal, línea de comandos, cmd, consola, cli, etc. de tu computadora, sé que es desafíante, pero no te preocupes ¡¡Sé que puedes lograrlo!!*"
   ]
  },
  {
   "cell_type": "markdown",
   "metadata": {},
   "source": [
    "## Crear un entorno virtual\n",
    "\n",
    "Crea un entorno virtual mediante ``venv``\n",
    "\n",
    "* Ejecutar en su terminal: ``python3 -m venv .venv`` o bien ``python -m venv .venv``\n",
    "\n",
    "    ```\n",
    "       python3 -m venv .venv \n",
    "       python -m venv .venv\n",
    "    ```\n",
    "    Ahora tienes un directorio (folder) ``.venv`` creado en tu terminal."
   ]
  },
  {
   "cell_type": "markdown",
   "metadata": {},
   "source": [
    "<figure>\n",
    "    <div align=\"center\">\n",
    "        <img src=\"img\\venv.jpg\" alt=\"Creación de entorno virtual\">\n",
    "    </div>\n",
    "    <figcaption align=\"center\">Creación de entorno virtual</figcaption>\n",
    "</figure>\n",
    "\n",
    "<figure>\n",
    "    <div align=\"center\">\n",
    "        <img src=\"img\\folder.jpg\" alt=\"Directorio .venv creado\">\n",
    "    </div>\n",
    "    <figcaption align=\"center\">Directorio <b>.venv</b> creado</figcaption>\n",
    "</figure>"
   ]
  },
  {
   "cell_type": "markdown",
   "metadata": {},
   "source": [
    "![]()"
   ]
  },
  {
   "cell_type": "markdown",
   "metadata": {},
   "source": [
    "* Ejecuta el comando para activar el entorno virtual: ``source env/bin/activate``\n",
    "\n",
    "    ```\n",
    "    source env/bin/activate\n",
    "    # Windows\n",
    "    env\\bin\\activate\n",
    "    \n",
    "    o bien: \n",
    "    env\\Scripts\\activate\n",
    "\n",
    "    # Linux, WSL or macOS\n",
    "    source env/bin/activate\n",
    "    ```"
   ]
  },
  {
   "cell_type": "markdown",
   "metadata": {},
   "source": [
    "<figure>\n",
    "    <div align=\"center\">\n",
    "        <img src=\"img\\activate.jpg\" alt=\"Activación del entorno virtual\">\n",
    "    </div>\n",
    "    <figcaption align=\"center\">Activación del entorno virtual</figcaption>\n",
    "</figure>"
   ]
  },
  {
   "cell_type": "markdown",
   "metadata": {},
   "source": [
    "Ahora ves en tu terminal ``(env)``. Eso significa que has activado tu entorno virtual y se ha aislado del resto de tu máquina."
   ]
  },
  {
   "cell_type": "markdown",
   "metadata": {},
   "source": [
    "<figure>\n",
    "    <div align=\"center\">\n",
    "        <img src=\"img\\activate_venv.jpg\" alt=\"Activación de entorno virtual\">\n",
    "    </div>\n",
    "    <figcaption align=\"center\">Entorno virtual activo</figcaption>\n",
    "</figure>"
   ]
  },
  {
   "cell_type": "markdown",
   "metadata": {},
   "source": [
    "## Instalar una biblioteca\n",
    "\n",
    "Ahora que estás dentro de tu entorno virtual, puedes instalar una biblioteca y saber que la biblioteca solo existirá en el entorno virtual.\n",
    "\n",
    "* Ejecuta el comando ``pip freeze`` para ver las bibliotecas instaladas en tu entorno:\n",
    "\n",
    "    ```\n",
    "    pip freeze\n",
    "    ```\n",
    "\n",
    "    No deberías obtener respuesta. A continuación, veamos cómo cambia la salida de ``pip freeze`` cuando se agrega una biblioteca (un paquete)."
   ]
  },
  {
   "cell_type": "markdown",
   "metadata": {},
   "source": [
    "<figure>\n",
    "    <div align=\"center\">\n",
    "        <img src=\"img\\freeze_command.jpg\" alt=\"Ejecutando el comando pip freeze\">\n",
    "    </div>\n",
    "    <figcaption align=\"center\">Ejecutando el comando <b>pip freeze</b></figcaption>\n",
    "</figure>"
   ]
  },
  {
   "cell_type": "markdown",
   "metadata": {},
   "source": [
    "* Ejecuta el comando ``pip install`` para instalar una biblioteca:\n",
    "   ```\n",
    "   pip install python-dateutil\n",
    "   ```\n",
    "* Un gran mensaje de salida de texto dice que está instalando tu biblioteca, y debe terminar con la siguiente oración:\n",
    "\n",
    "    ```\n",
    "    Successfully installed python-dateutil-2.8.2 six-1.16.0\n",
    "    ```"
   ]
  },
  {
   "cell_type": "markdown",
   "metadata": {},
   "source": [
    "<figure>\n",
    "    <div align=\"center\">\n",
    "        <img src=\"img\\first_package.jpg\" alt=\"Instalación del paquete python-dateutil\">\n",
    "    </div>\n",
    "    <figcaption align=\"center\">Instalación del paquete <b>python-dateutil</b></figcaption>\n",
    "</figure>"
   ]
  },
  {
   "cell_type": "markdown",
   "metadata": {},
   "source": [
    "* Vuelve a ejecutar ```pip freeze``` para ver cómo ha cambiado tu lista de bibliotecas:\n",
    "    ```\n",
    "    pip freeze\n",
    "    ```\n",
    "* Ahora deberías ver la siguiente lista:\n",
    "    ```\n",
    "    python-dateutil==2.8.2\n",
    "    six==1.16.0\n",
    "    ```"
   ]
  },
  {
   "cell_type": "markdown",
   "metadata": {},
   "source": [
    "<figure>\n",
    "    <div align=\"center\">\n",
    "        <img src=\"img\\freeze_command_2.jpg\" alt=\"Ejecutando el comando pip freeze\">\n",
    "    </div>\n",
    "    <figcaption align=\"center\">Ejecutando el comando <b>pip freeze</b></figcaption>\n",
    "</figure>"
   ]
  },
  {
   "cell_type": "markdown",
   "metadata": {},
   "source": [
    "### Desactivar un entorno virtual\n",
    "\n",
    "Hasta ahora, has creado un entorno virtual y le has agregado un paquete. Sin embargo, es posible que estés trabajando en varios proyectos de Python y necesites cambiar entre ellos. Para hacer eso, debes salir (desactivar) tu entorno virtual.\n",
    "\n",
    "Ejecuta el comando ``deactivate``:\n",
    "```\n",
    "deactivate\n",
    "```"
   ]
  },
  {
   "cell_type": "markdown",
   "metadata": {},
   "source": [
    "<figure>\n",
    "    <div align=\"center\">\n",
    "        <img src=\"img\\deactivate_venv.jpg\" alt=\"Desactivando el entorno virtual\">\n",
    "    </div>\n",
    "    <figcaption align=\"center\">Desactivando el entorno virtual</figcaption>\n",
    "</figure>"
   ]
  },
  {
   "cell_type": "markdown",
   "metadata": {},
   "source": [
    "Observa cómo cambia el mensaje de tu terminal ``(env)`` a cómo se veía antes.\n"
   ]
  },
  {
   "cell_type": "markdown",
   "metadata": {},
   "source": [
    "<figure>\n",
    "    <div align=\"center\">\n",
    "        <img src=\"img\\no_venv.jpg\" alt=\"Entorno virtual desactivado\">\n",
    "    </div>\n",
    "    <figcaption align=\"center\">Entorno virtual desactivado</figcaption>\n",
    "</figure>"
   ]
  },
  {
   "cell_type": "markdown",
   "metadata": {},
   "source": [
    "¡Felicidades! Has logrado crear y usar correctamente un entorno virtual."
   ]
  }
 ],
 "metadata": {
  "interpreter": {
   "hash": "6e35a776ce489be50d2b47fbea9557a43897091c2ebe018ea2b9f8b91e9cbc2c"
  },
  "kernelspec": {
   "display_name": "Python 3.10.1 64-bit",
   "language": "python",
   "name": "python3"
  },
  "language_info": {
   "name": "python",
   "version": "3.10.1"
  },
  "orig_nbformat": 4
 },
 "nbformat": 4,
 "nbformat_minor": 2
}

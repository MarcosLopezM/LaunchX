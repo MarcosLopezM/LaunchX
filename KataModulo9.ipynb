{
 "cells": [
  {
   "cell_type": "markdown",
   "metadata": {},
   "source": [
    "# Kata del Módulo 9"
   ]
  },
  {
   "cell_type": "markdown",
   "metadata": {},
   "source": [
    "## Ejercicio: Uso de funciones en Python\n",
    "\n",
    "### Ejercicio 1: Trabajar con argumentos en funciones\n",
    "\n",
    "Los argumentos requeridos en las funciones se utilizan cuando las funciones necesitan que esos argumentos funcionen correctamente. En este ejercicio, construirás un informe de combustible que requiere información de varias ubicaciones de combustible en todo el cohete.\n",
    "\n",
    "Comienza por crear una función que necesite tres lecturas de combustible y devuelva un informe:"
   ]
  },
  {
   "cell_type": "code",
   "execution_count": 8,
   "metadata": {},
   "outputs": [],
   "source": [
    "# Función para leer 3 tanques de combustible y muestre el promedio\n",
    "\n",
    "def average_fuel(tank_1, tank_2, tank_3):\n",
    "    sum_ = tank_1 + tank_2 + tank_3\n",
    "    average = sum_ / 3\n",
    "    return f\"The total average of fuel is {average}.\""
   ]
  },
  {
   "cell_type": "markdown",
   "metadata": {},
   "source": [
    "Ahora que hemos definido la función de informes, vamos a comprobarlo. Para esta misión, los tanques no están llenos:"
   ]
  },
  {
   "cell_type": "code",
   "execution_count": 9,
   "metadata": {},
   "outputs": [
    {
     "name": "stdout",
     "output_type": "stream",
     "text": [
      "The total average of fuel is 73.33333333333333.\n"
     ]
    }
   ],
   "source": [
    "# Llamamos a la función que genera el reporte print(funcion(tanque1, tanque2, tanque3))\n",
    "print(average_fuel(75, 95, 50))"
   ]
  },
  {
   "cell_type": "markdown",
   "metadata": {},
   "source": [
    "En lugar de simplemente crear el informe, la función también está calculando el promedio. Mejora la legibilidad extrayendo el cálculo promedio de la función en una nueva función para que el promedio se pueda hacer de forma independiente:"
   ]
  },
  {
   "cell_type": "code",
   "execution_count": 10,
   "metadata": {},
   "outputs": [],
   "source": [
    "# Función promedio \n",
    "def total_average_fuel(*args):\n",
    "    total_fuel = sum(args)\n",
    "    number_of_tanks = len(args)\n",
    "    return f\"The total average of fuel is {total_fuel / number_of_tanks}\""
   ]
  },
  {
   "cell_type": "markdown",
   "metadata": {},
   "source": [
    "Ahora actualiza la función de informes, pero llamando a la nueva función del promedio:"
   ]
  },
  {
   "cell_type": "code",
   "execution_count": 12,
   "metadata": {},
   "outputs": [
    {
     "name": "stdout",
     "output_type": "stream",
     "text": [
      "The total average of fuel is 73.33333333333333\n"
     ]
    }
   ],
   "source": [
    "# Actualiza la función\n",
    "print(total_average_fuel(75, 95, 50))"
   ]
  },
  {
   "cell_type": "markdown",
   "metadata": {},
   "source": [
    "## Ejercicio 2: Trabajo con argumentos de palabra clave\n",
    "\n",
    "### Ejercicio : Trabajar con argumentos de palabras clave en funciones\n",
    "En este ejercicio, construirás un informe de cohete que requiere varias piezas de información, como el tiempo hasta el destino, el combustible a la izquierda y el nombre del destino. Comienza por crear una función que creará un informe preciso de la misión:"
   ]
  },
  {
   "cell_type": "code",
   "execution_count": 14,
   "metadata": {},
   "outputs": [],
   "source": [
    "# Función con un informe preciso de la misión. Considera hora de pre-lanzamiento, tiempo de vuelo, destino, tanque externo y tanque interno\n",
    "def rocket_report(prelaunchTime, flightTime, destination, externalTank, internalTank):\n",
    "    return f\"\"\"\n",
    "        PreLaunch Time = {prelaunchTime} minutes,\n",
    "        Flight Time = {flightTime} minutes,\n",
    "        Total Time = {prelaunchTime + flightTime} minutes,\n",
    "        Destination = {destination},\n",
    "        External Tank = {externalTank} liters,\n",
    "        Internal Tank = {internalTank} liters.\n",
    "    \"\"\""
   ]
  },
  {
   "cell_type": "markdown",
   "metadata": {},
   "source": [
    "La función es problemática porque no se puede adaptar para minutos adicionales o tanques adicionales de combustible. Hazlo más flexible permitiendo cualquier número de pasos basados en el tiempo y cualquier número de tanques. En lugar de usar `*args` y `**kwargs`, aprovecha el hecho de que puedes usar cualquier nombre que desees. Asegurate que la función sea más legible mediante el uso de nombres de variables que están asociados con las entradas, como `*minutes` y `**fuel_reservoirs`:"
   ]
  },
  {
   "cell_type": "code",
   "execution_count": 18,
   "metadata": {},
   "outputs": [],
   "source": [
    "# Escribe tu nueva función de reporte considerando lo anterior\n",
    "def new_rocket_report(destination, *minutes, **fuel_reservoirs):\n",
    "    return f\"\"\"\n",
    "        Destination = {destination},\n",
    "        Total Time = {sum(minutes)} minutes,\n",
    "        Total Fuel = {sum(fuel_reservoirs.values())} liters.\n",
    "    \"\"\"    "
   ]
  },
  {
   "cell_type": "markdown",
   "metadata": {},
   "source": [
    "Debido a que el combustible que queda en los tanques es específico de cada tanque, actualiza la función para usar el nombre de cada tanque en el informe:"
   ]
  },
  {
   "cell_type": "code",
   "execution_count": 45,
   "metadata": {},
   "outputs": [],
   "source": [
    "reservoirs = []\n",
    "def updated_rocket_report(destination, *minutes, **fuel_reservoirs):\n",
    "    data = f\"Destination = {destination},\\nTotal Time = {sum(minutes)} minutes,\\nTotal Fuel = {sum(fuel_reservoirs.values())} liters,\\n\"\n",
    "    for reservoir in fuel_reservoirs:\n",
    "        reservoirs.append(f\"{reservoir} = {fuel_reservoirs[reservoir]} liters\")\n",
    "    return data + \"\\n\".join(reservoirs)"
   ]
  },
  {
   "cell_type": "code",
   "execution_count": 46,
   "metadata": {},
   "outputs": [
    {
     "name": "stdout",
     "output_type": "stream",
     "text": [
      "Destination = Mars,\n",
      "Total Time = 152 minutes,\n",
      "Total Fuel = 19069 liters,\n",
      "External = 1234 liters\n",
      "Internal = 5467 liters\n",
      "Main = 8912 liters\n",
      "Spare = 3456 liters\n"
     ]
    }
   ],
   "source": [
    "print(updated_rocket_report(\"Mars\", 15, 20, 13, 45, 59, External = 1234, Internal = 5467, Main = 8912, Spare = 3456))"
   ]
  }
 ],
 "metadata": {
  "interpreter": {
   "hash": "c83c6a64a1e22f0ac444e1f7679a2e27808bcc6f48fc6793f38b7d03cba998db"
  },
  "kernelspec": {
   "display_name": "Python 3.10.1 ('.venv': venv)",
   "language": "python",
   "name": "python3"
  },
  "language_info": {
   "codemirror_mode": {
    "name": "ipython",
    "version": 3
   },
   "file_extension": ".py",
   "mimetype": "text/x-python",
   "name": "python",
   "nbconvert_exporter": "python",
   "pygments_lexer": "ipython3",
   "version": "3.10.1"
  },
  "orig_nbformat": 4
 },
 "nbformat": 4,
 "nbformat_minor": 2
}
